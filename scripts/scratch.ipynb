{
 "cells": [
  {
   "cell_type": "code",
   "execution_count": 2,
   "id": "043baddb-8f95-4fe8-a8fb-1c8bc6c78dd8",
   "metadata": {},
   "outputs": [],
   "source": [
    "# https://www.interviewquery.com/questions/alphabet-sum\n",
    "# Given a list of strings of letters from a to z, create a function, sum_alphabet, that returns a list of the alphabet sum of each word in the string.\n",
    "\n",
    "# The alphabet sum is the sum of the ordinal position of each of the string’s letters in the standard English alphabet ordering. So, the letter a will have a value of 1, z will have a value of 26, and so on.\n",
    "\n",
    "# As an example of the alphabet sum of a string, the string sport will have an alphabet sum of 19 + 16 + 15 + 18 + 20 = 88.\n",
    "\n",
    "# Example:\n",
    "\n",
    "# Input:\n",
    "\n",
    "# words = [\"sport\" , \"good\" , \"bad\"]\n",
    "# Output:\n",
    "\n",
    "# def sum_alphabet(words) -> [88 , 41 , 7]"
   ]
  },
  {
   "cell_type": "code",
   "execution_count": 5,
   "id": "aa96eae5-8ac2-40ab-853b-15d0f3c6f338",
   "metadata": {},
   "outputs": [],
   "source": [
    "def sum_alphabet(words):\n",
    "    result = []\n",
    "    for word in words:\n",
    "        sum_char = 0\n",
    "        for char in word:\n",
    "            sum_char += (ord(char) - ord('a')) + 1    \n",
    "        result.append(sum_char)\n",
    "    return result"
   ]
  },
  {
   "cell_type": "code",
   "execution_count": 6,
   "id": "897e2336-66a8-43c6-bdf7-0fbdd77aad88",
   "metadata": {},
   "outputs": [
    {
     "name": "stdout",
     "output_type": "stream",
     "text": [
      "[88, 41, 7]\n"
     ]
    }
   ],
   "source": [
    "words = [\"sport\" , \"good\" , \"bad\"]\n",
    "print(sum_alphabet(words))"
   ]
  },
  {
   "cell_type": "code",
   "execution_count": null,
   "id": "251679b4-e04c-47ad-8455-a9609c996408",
   "metadata": {},
   "outputs": [],
   "source": []
  },
  {
   "cell_type": "code",
   "execution_count": 7,
   "id": "75f24451-68eb-4fa2-bb5f-5ee3dc2cf8a3",
   "metadata": {},
   "outputs": [],
   "source": [
    "# https://www.interviewquery.com/questions/merge-sorted-lists\n",
    "# Given two sorted lists, write a function to merge them into one sorted list.\n",
    "\n",
    "# Bonus: What’s the time complexity?\n",
    "\n",
    "# Example:\n",
    "\n",
    "# Input:\n",
    "\n",
    "# list1 = [1,2,5]\n",
    "# list2 = [2,4,6]\n",
    "# Output:\n",
    "\n",
    "# def merge_list(list1,list2) -> [1,2,2,4,5,6]"
   ]
  },
  {
   "cell_type": "code",
   "execution_count": 14,
   "id": "596dc090-6327-4ac7-9e37-0719790a0eae",
   "metadata": {},
   "outputs": [],
   "source": [
    "def merge_list(list1, list2):\n",
    "    list1_dict = dict()\n",
    "    list2_dict = dict()\n",
    "    result = []\n",
    "\n",
    "    for num in list1:\n",
    "        if num not in list1_dict:\n",
    "            list1_dict[num] = 1\n",
    "        else:\n",
    "            list1_dict[num] += 1\n",
    "\n",
    "    for num in list2:\n",
    "        if num not in list2_dict:\n",
    "            list2_dict[num] = 1\n",
    "        else:\n",
    "            list2_dict[num] += 1\n",
    "\n",
    "    for num in range(min(list1[0], list2[0]), max(list1[-1], list2[-1]) + 1):\n",
    "        if num in list1_dict:\n",
    "            result.extend([num * list1_dict[num]])\n",
    "\n",
    "        if num in list2_dict:\n",
    "            result.extend([num * list2_dict[num]])\n",
    "\n",
    "    return result"
   ]
  },
  {
   "cell_type": "code",
   "execution_count": 15,
   "id": "6bf5f1bd-b552-4adc-a0a9-09c819c2fa1d",
   "metadata": {},
   "outputs": [
    {
     "name": "stdout",
     "output_type": "stream",
     "text": [
      "[1, 2, 2, 4, 5, 6]\n"
     ]
    }
   ],
   "source": [
    "list1 = [1,2,5]\n",
    "list2 = [2,4,6]\n",
    "\n",
    "print(merge_list(list1,list2))"
   ]
  },
  {
   "cell_type": "code",
   "execution_count": 18,
   "id": "960098b4-ccbf-4777-91de-d5bd3590599f",
   "metadata": {},
   "outputs": [],
   "source": [
    "# Approach 2\n",
    "\n",
    "def merge_list(list1, list2):\n",
    "    i = 0\n",
    "    j = 0\n",
    "    result = []\n",
    "    while i < len(list1) or j < len(list2):\n",
    "        if list1[i] < list2[j]:\n",
    "            result.append(list1[i])\n",
    "            i += 1\n",
    "        elif list1[i] > list2[j]:\n",
    "            result.append(list2[j])\n",
    "            j += 1\n",
    "        else:\n",
    "            result.append(list1[i])\n",
    "            result.append(list2[j])\n",
    "            i += 1\n",
    "            j += 1\n",
    "    return result"
   ]
  },
  {
   "cell_type": "code",
   "execution_count": 19,
   "id": "e488900a-06ea-4517-b43e-a70fb3146dd2",
   "metadata": {},
   "outputs": [
    {
     "ename": "IndexError",
     "evalue": "list index out of range",
     "output_type": "error",
     "traceback": [
      "\u001b[1;31m---------------------------------------------------------------------------\u001b[0m",
      "\u001b[1;31mIndexError\u001b[0m                                Traceback (most recent call last)",
      "Cell \u001b[1;32mIn[19], line 4\u001b[0m\n\u001b[0;32m      1\u001b[0m list1 \u001b[38;5;241m=\u001b[39m [\u001b[38;5;241m1\u001b[39m,\u001b[38;5;241m2\u001b[39m,\u001b[38;5;241m5\u001b[39m]\n\u001b[0;32m      2\u001b[0m list2 \u001b[38;5;241m=\u001b[39m [\u001b[38;5;241m2\u001b[39m,\u001b[38;5;241m4\u001b[39m,\u001b[38;5;241m6\u001b[39m]\n\u001b[1;32m----> 4\u001b[0m \u001b[38;5;28mprint\u001b[39m(\u001b[43mmerge_list\u001b[49m\u001b[43m(\u001b[49m\u001b[43mlist1\u001b[49m\u001b[43m,\u001b[49m\u001b[43mlist2\u001b[49m\u001b[43m)\u001b[49m)\n",
      "Cell \u001b[1;32mIn[18], line 8\u001b[0m, in \u001b[0;36mmerge_list\u001b[1;34m(list1, list2)\u001b[0m\n\u001b[0;32m      6\u001b[0m result \u001b[38;5;241m=\u001b[39m []\n\u001b[0;32m      7\u001b[0m \u001b[38;5;28;01mwhile\u001b[39;00m i \u001b[38;5;241m<\u001b[39m \u001b[38;5;28mlen\u001b[39m(list1) \u001b[38;5;129;01mor\u001b[39;00m j \u001b[38;5;241m<\u001b[39m \u001b[38;5;28mlen\u001b[39m(list2):\n\u001b[1;32m----> 8\u001b[0m     \u001b[38;5;28;01mif\u001b[39;00m \u001b[43mlist1\u001b[49m\u001b[43m[\u001b[49m\u001b[43mi\u001b[49m\u001b[43m]\u001b[49m \u001b[38;5;241m<\u001b[39m list2[j]:\n\u001b[0;32m      9\u001b[0m         result\u001b[38;5;241m.\u001b[39mappend(list1[i])\n\u001b[0;32m     10\u001b[0m         i \u001b[38;5;241m+\u001b[39m\u001b[38;5;241m=\u001b[39m \u001b[38;5;241m1\u001b[39m\n",
      "\u001b[1;31mIndexError\u001b[0m: list index out of range"
     ]
    }
   ],
   "source": [
    "list1 = [1,2,5]\n",
    "list2 = [2,4,6]\n",
    "\n",
    "print(merge_list(list1,list2))"
   ]
  },
  {
   "cell_type": "code",
   "execution_count": null,
   "id": "b9d9a127-e5d8-4c39-bbc0-a9ba8c5ebcb4",
   "metadata": {},
   "outputs": [],
   "source": []
  }
 ],
 "metadata": {
  "kernelspec": {
   "display_name": "Python 3 (ipykernel)",
   "language": "python",
   "name": "python3"
  },
  "language_info": {
   "codemirror_mode": {
    "name": "ipython",
    "version": 3
   },
   "file_extension": ".py",
   "mimetype": "text/x-python",
   "name": "python",
   "nbconvert_exporter": "python",
   "pygments_lexer": "ipython3",
   "version": "3.10.11"
  }
 },
 "nbformat": 4,
 "nbformat_minor": 5
}
